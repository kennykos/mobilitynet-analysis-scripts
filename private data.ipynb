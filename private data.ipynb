{
 "cells": [
  {
   "cell_type": "markdown",
   "id": "6b1b1298",
   "metadata": {},
   "source": [
    "# This notebook will use Private OpenPATH data"
   ]
  },
  {
   "cell_type": "markdown",
   "id": "ce56e98b",
   "metadata": {},
   "source": [
    "### Dependencies"
   ]
  },
  {
   "cell_type": "code",
   "execution_count": null,
   "id": "6b10b322",
   "metadata": {},
   "outputs": [],
   "source": [
    "import sys\n",
    "sys.path.append(\"/Users/gkosmach/Documents/every_trip_counts/e-mission-server\")"
   ]
  },
  {
   "cell_type": "code",
   "execution_count": null,
   "id": "ee7b8452",
   "metadata": {},
   "outputs": [],
   "source": [
    "from pymongo import MongoClient"
   ]
  },
  {
   "cell_type": "code",
   "execution_count": null,
   "id": "3ad0202b",
   "metadata": {},
   "outputs": [],
   "source": [
    "import pandas as pd"
   ]
  },
  {
   "cell_type": "code",
   "execution_count": null,
   "id": "0fccd747",
   "metadata": {},
   "outputs": [],
   "source": [
    "import emission.storage.timeseries.aggregate_timeseries as estag "
   ]
  },
  {
   "cell_type": "code",
   "execution_count": null,
   "id": "8c5dfb2e",
   "metadata": {},
   "outputs": [],
   "source": [
    "import emission.core.get_database as edb\n",
    "import pandas as pd"
   ]
  },
  {
   "cell_type": "code",
   "execution_count": null,
   "id": "ca5a5bf7",
   "metadata": {},
   "outputs": [],
   "source": [
    "from uuid import UUID"
   ]
  },
  {
   "cell_type": "markdown",
   "id": "cb10edf6",
   "metadata": {},
   "source": [
    "### Acess Database"
   ]
  },
  {
   "cell_type": "code",
   "execution_count": null,
   "id": "beb38de5",
   "metadata": {},
   "outputs": [],
   "source": [
    "all_users = pd.DataFrame(list(edb.get_uuid_db().find({}, {\"user_email\":1, \"uuid\": 1, \"_id\": 0})))\n",
    "all_users"
   ]
  },
  {
   "cell_type": "code",
   "execution_count": null,
   "id": "a69a50b6",
   "metadata": {},
   "outputs": [],
   "source": [
    "client = MongoClient()\n",
    "db = client.Stage_database"
   ]
  },
  {
   "cell_type": "code",
   "execution_count": null,
   "id": "4e00f430",
   "metadata": {},
   "outputs": [],
   "source": [
    "inferred_trip_query = db.Stage_analysis_timeseries.find({\n",
    "    \"$and\": [ {\"metadata.key\":\"analysis/confirmed_trip\"},\n",
    "            {\"data.algorithm_chosen\": {\"$in\": [\"label_assist\",\"sensing\"]}}]\n",
    "    }) "
   ]
  },
  {
   "cell_type": "code",
   "execution_count": null,
   "id": "590e3292",
   "metadata": {},
   "outputs": [],
   "source": [
    "inferred_trip_query = db.Stage_analysis_timeseries.find({\n",
    "    \"$and\": [ {\"metadata.key\":\"analysis/confirmed_trip\"},\n",
    "            {\"data.algorithm_chosen\": {\"$in\": [\"label_assist\",\"sensing\"]}}]\n",
    "    }) "
   ]
  },
  {
   "cell_type": "code",
   "execution_count": null,
   "id": "59317705",
   "metadata": {},
   "outputs": [],
   "source": [
    "agts = estag.AggregateTimeSeries()   \n",
    "inferred_trips_df = agts.to_data_df(\"analysis/confirmed_trip\",inferred_trip_query);inferred_trips_df"
   ]
  },
  {
   "cell_type": "code",
   "execution_count": null,
   "id": "2c55f3fa",
   "metadata": {},
   "outputs": [],
   "source": []
  }
 ],
 "metadata": {
  "kernelspec": {
   "display_name": "Python 3 (ipykernel)",
   "language": "python",
   "name": "python3"
  },
  "language_info": {
   "codemirror_mode": {
    "name": "ipython",
    "version": 3
   },
   "file_extension": ".py",
   "mimetype": "text/x-python",
   "name": "python",
   "nbconvert_exporter": "python",
   "pygments_lexer": "ipython3",
   "version": "3.8.13"
  }
 },
 "nbformat": 4,
 "nbformat_minor": 5
}
